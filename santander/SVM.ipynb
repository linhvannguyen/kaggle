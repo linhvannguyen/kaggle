{
 "cells": [
  {
   "cell_type": "markdown",
   "metadata": {},
   "source": [
    "## SVM"
   ]
  },
  {
   "cell_type": "code",
   "execution_count": 1,
   "metadata": {
    "collapsed": false
   },
   "outputs": [],
   "source": [
    "%matplotlib inline\n",
    "import numpy as np\n",
    "import pandas as pd\n",
    "import matplotlib.pyplot as plt"
   ]
  },
  {
   "cell_type": "code",
   "execution_count": 2,
   "metadata": {
    "collapsed": false
   },
   "outputs": [],
   "source": [
    "df_train = pd.read_csv('./data/train.csv')\n",
    "df_test = pd.read_csv('./data/test.csv')\n",
    "\n",
    "# Replace -999999 in var3 column with most common value 2 \n",
    "df_train = df_train.replace(-999999,2)\n",
    "df_test = df_test.replace(-999999,2)"
   ]
  },
  {
   "cell_type": "code",
   "execution_count": 3,
   "metadata": {
    "collapsed": false
   },
   "outputs": [
    {
     "name": "stderr",
     "output_type": "stream",
     "text": [
      "/home/nguyen/anaconda/lib/python2.7/site-packages/sklearn/preprocessing/data.py:167: UserWarning: Numerical issues were encountered when centering the data and might not be solved. Dataset may contain too large values. You may need to prescale your features.\n",
      "  warnings.warn(\"Numerical issues were encountered \"\n",
      "/home/nguyen/anaconda/lib/python2.7/site-packages/sklearn/feature_selection/univariate_selection.py:113: UserWarning: Features [ 21  22  56  57  58  59  80  84  85 131 132 133 134 155 161 162 179 180\n",
      " 189 192 220 222 234 238 244 248 261 262 303 307 315 319 327 349] are constant.\n",
      "  UserWarning)\n"
     ]
    }
   ],
   "source": [
    "from sklearn import preprocessing\n",
    "X = pd.DataFrame(preprocessing.scale(df_train.iloc[:,1:-1]))\n",
    "y = df_train.TARGET\n",
    "\n",
    "from sklearn.feature_selection import SelectPercentile\n",
    "from sklearn.feature_selection import f_classif,chi2\n",
    "from sklearn.preprocessing import Binarizer, scale\n",
    "\n",
    "# First select features based on chi2 and f_classif\n",
    "p = 5 # percentage of selected features\n",
    "\n",
    "X_bin = Binarizer().fit_transform(scale(X))\n",
    "selectChi2 = SelectPercentile(chi2, percentile=p).fit(X_bin, y)\n",
    "selectF_classif = SelectPercentile(f_classif, percentile=p).fit(X, y)\n",
    "\n",
    "chi2_selected = selectChi2.get_support()\n",
    "chi2_selected_features = [ f for i,f in enumerate(X.columns) if chi2_selected[i]]\n",
    "#print('Chi2 selected {} features {}.'.format(chi2_selected.sum(),chi2_selected_features))\n",
    "f_classif_selected = selectF_classif.get_support()\n",
    "f_classif_selected_features = [ f for i,f in enumerate(X.columns) if f_classif_selected[i]]\n",
    "# print('F_classif selected {} features {}.'.format(f_classif_selected.sum(),f_classif_selected_features))"
   ]
  },
  {
   "cell_type": "code",
   "execution_count": 4,
   "metadata": {
    "collapsed": false
   },
   "outputs": [
    {
     "name": "stdout",
     "output_type": "stream",
     "text": [
      "Chi2 & F_classif selected 23 features\n",
      "[1, 24, 27, 29, 31, 38, 63, 76, 88, 90, 93, 97, 104, 137, 138, 147, 158, 171, 182, 193, 280, 329, 331]\n"
     ]
    }
   ],
   "source": [
    "selected = chi2_selected | f_classif_selected\n",
    "print('Chi2 & F_classif selected {} features'.format(selected.sum()))\n",
    "features = [ f for f,s in zip(X.columns, selected) if s]\n",
    "print (features)"
   ]
  },
  {
   "cell_type": "code",
   "execution_count": 5,
   "metadata": {
    "collapsed": false
   },
   "outputs": [
    {
     "name": "stdout",
     "output_type": "stream",
     "text": [
      "[  1.14515774e-15  -1.20744932e-15  -1.08808946e-15   2.84332980e-15\n",
      "   5.19655864e-15   1.01503102e-15  -2.44932549e-15   4.60573145e-16\n",
      "  -6.59401591e-15  -1.44824665e-15  -1.08659400e-15  -6.03185615e-15\n",
      "   1.01503102e-15  -1.08659400e-15  -7.10444887e-16   3.05393910e-15\n",
      "  -1.73249485e-15  -3.06680079e-16   4.20494057e-15   0.00000000e+00\n",
      "   1.21737517e-16   2.80451069e-16   1.31992732e-15]\n",
      "[ 1.  1.  1.  1.  1.  1.  1.  1.  1.  1.  1.  1.  1.  1.  1.  1.  1.  1.\n",
      "  1.  0.  1.  1.  1.]\n",
      "(76020, 23)\n",
      "(76020,)\n",
      "1\n"
     ]
    }
   ],
   "source": [
    "from sklearn import preprocessing\n",
    "X_tr = preprocessing.scale(df_train[features].as_matrix())\n",
    "t_tr = df_train['TARGET'].as_matrix()\n",
    "\n",
    "print(X_tr.mean(axis=0))\n",
    "print(X_tr.std(axis=0))\n",
    "print(np.shape(X_tr))\n",
    "print(np.shape(t_tr))\n",
    "print(np.count_nonzero(~np.isnan(X_tr))/np.size(X_tr))"
   ]
  },
  {
   "cell_type": "code",
   "execution_count": 6,
   "metadata": {
    "collapsed": true
   },
   "outputs": [],
   "source": [
    "from sklearn.svm import SVC\n",
    "from sklearn.learning_curve import validation_curve\n",
    "from sklearn.grid_search import GridSearchCV\n",
    "\n",
    "param_range = np.logspace(-6, 3, 10)\n",
    "train_scores, test_scores = validation_curve(SVC(), X_tr, t_tr, param_name=\"gamma\", param_range=param_range, \n",
    "                                             cv=6, scoring=\"accuracy\", n_jobs=3)\n",
    "train_scores_mean = np.mean(train_scores, axis=1)\n",
    "train_scores_std = np.std(train_scores, axis=1)\n",
    "test_scores_mean = np.mean(test_scores, axis=1)\n",
    "test_scores_std = np.std(test_scores, axis=1)\n"
   ]
  },
  {
   "cell_type": "code",
   "execution_count": 7,
   "metadata": {
    "collapsed": false
   },
   "outputs": [
    {
     "data": {
      "image/png": "[encoded data removed]",
      "text/plain": [
       "<matplotlib.figure.Figure at 0x7fc1acec5ed0>"
      ]
     },
     "metadata": {},
     "output_type": "display_data"
    }
   ],
   "source": [
    "plt.figure(figsize=(7, 5))\n",
    "plt.title(\"Validation Curve with SVM\")\n",
    "plt.xlabel(\"$\\gamma$\")\n",
    "plt.ylabel(\"Score\")\n",
    "plt.ylim(0.0, 1.1)\n",
    "plt.semilogx(param_range, train_scores_mean, label=\"Training score\", color=\"r\")\n",
    "plt.fill_between(param_range, train_scores_mean - train_scores_std, \n",
    "                 train_scores_mean + train_scores_std, alpha=0.2, color=\"r\")\n",
    "plt.semilogx(param_range, test_scores_mean, label=\"Cross-validation score\", color=\"g\")\n",
    "plt.fill_between(param_range, test_scores_mean - test_scores_std, \n",
    "                 test_scores_mean + test_scores_std, alpha=0.2, color=\"g\")\n",
    "plt.legend(loc=\"best\")\n",
    "plt.show()\n"
   ]
  },
  {
   "cell_type": "code",
   "execution_count": 19,
   "metadata": {
    "collapsed": false
   },
   "outputs": [
    {
     "data": {
      "text/plain": [
       "SVC(C=1, cache_size=200, class_weight=None, coef0=0.0,\n",
       "  decision_function_shape=None, degree=3, gamma=2, kernel='rbf',\n",
       "  max_iter=-1, probability=True, random_state=None, shrinking=True,\n",
       "  tol=0.001, verbose=False)"
      ]
     },
     "execution_count": 19,
     "metadata": {},
     "output_type": "execute_result"
    }
   ],
   "source": [
    "clf = SVC(gamma=2, C=1,probability=True)\n",
    "clf.fit(X_tr, t_tr)\n",
    "\n",
    "# Compute cross-validation score using all CPUs\n",
    "#from sklearn import svm, cross_validation\n",
    "#scores = cross_validation.cross_val_score(clf, X_tr, t_tr, n_jobs=3)\n",
    "#print(scores.mean())"
   ]
  },
  {
   "cell_type": "code",
   "execution_count": 20,
   "metadata": {
    "collapsed": false
   },
   "outputs": [],
   "source": [
    "X_test = preprocessing.scale(df_test[features].as_matrix())"
   ]
  },
  {
   "cell_type": "code",
   "execution_count": 21,
   "metadata": {
    "collapsed": false
   },
   "outputs": [],
   "source": [
    "#t_test=clf.predict(X_test)\n",
    "t_test=clf.predict_proba(X_test)"
   ]
  },
  {
   "cell_type": "code",
   "execution_count": 27,
   "metadata": {
    "collapsed": false
   },
   "outputs": [
    {
     "data": {
      "text/plain": [
       "[<matplotlib.lines.Line2D at 0x7fc1acdf5210>]"
      ]
     },
     "execution_count": 27,
     "metadata": {},
     "output_type": "execute_result"
    },
    {
     "data": {
      "image/png": "[encoded data removed]",
      "text/plain": [
       "<matplotlib.figure.Figure at 0x7fc1aab33f90>"
      ]
     },
     "metadata": {},
     "output_type": "display_data"
    }
   ],
   "source": [
    "#np.sum(t_test)\n",
    "plt.plot(t_test[:,1])"
   ]
  },
  {
   "cell_type": "code",
   "execution_count": 30,
   "metadata": {
    "collapsed": false
   },
   "outputs": [],
   "source": [
    "id_test = df_test['ID']\n",
    "submission = pd.DataFrame({\"ID\":id_test, \"TARGET\": t_test[:,1]})\n",
    "submission.to_csv(\"submission.csv\", index=False)"
   ]
  },
  {
   "cell_type": "code",
   "execution_count": null,
   "metadata": {
    "collapsed": true
   },
   "outputs": [],
   "source": []
  }
 ],
 "metadata": {
  "kernelspec": {
   "display_name": "Python 2",
   "language": "python",
   "name": "python2"
  },
  "language_info": {
   "codemirror_mode": {
    "name": "ipython",
    "version": 2
   },
   "file_extension": ".py",
   "mimetype": "text/x-python",
   "name": "python",
   "nbconvert_exporter": "python",
   "pygments_lexer": "ipython2",
   "version": "2.7.11"
  }
 },
 "nbformat": 4,
 "nbformat_minor": 0
}
