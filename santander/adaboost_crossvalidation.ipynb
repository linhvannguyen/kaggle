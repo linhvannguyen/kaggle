{
 "cells": [
  {
   "cell_type": "code",
   "execution_count": 1,
   "metadata": {
    "collapsed": false
   },
   "outputs": [],
   "source": [
    "%matplotlib inline\n",
    "import numpy as np\n",
    "import pandas as pd\n",
    "import matplotlib.pyplot as plt\n",
    "from sklearn.cross_validation import train_test_split, cross_val_score, StratifiedKFold\n",
    "from sklearn import grid_search\n",
    "from sklearn import linear_model, metrics, preprocessing\n",
    "from sklearn.feature_selection import RFE,SelectPercentile,f_classif,chi2\n",
    "from sklearn.metrics import roc_auc_score\n",
    "from sklearn.decomposition import PCA\n",
    "from sklearn.preprocessing import normalize\n",
    "from sklearn.ensemble import ExtraTreesClassifier\n",
    "from sklearn.ensemble import RandomForestClassifier \n",
    "from sklearn.feature_selection import SelectFromModel\n",
    "from sklearn import metrics\n",
    "import xgboost as xgb\n",
    "\n",
    "from sklearn.ensemble import AdaBoostClassifier\n",
    "from sklearn.tree import DecisionTreeClassifier"
   ]
  },
  {
   "cell_type": "markdown",
   "metadata": {},
   "source": [
    "### Load data"
   ]
  },
  {
   "cell_type": "code",
   "execution_count": 2,
   "metadata": {
    "collapsed": false
   },
   "outputs": [],
   "source": [
    "df_train = pd.read_csv('./data/train.csv')\n",
    "df_test = pd.read_csv('./data/test.csv')\n",
    "\n",
    "skf_cv = StratifiedKFold(df_train['TARGET'], n_folds=6, shuffle=True, random_state=None) # split target equally\n",
    "def score_model(model,X,t):\n",
    "    #return cross_val_score(model, X, t, cv=6, scoring=\"roc_auc\",n_jobs=3)\n",
    "    return cross_val_score(model, X, t, cv=skf_cv, scoring=\"roc_auc\",n_jobs=3)"
   ]
  },
  {
   "cell_type": "markdown",
   "metadata": {},
   "source": [
    "### Remove constant columns"
   ]
  },
  {
   "cell_type": "code",
   "execution_count": 3,
   "metadata": {
    "collapsed": true
   },
   "outputs": [],
   "source": [
    "remove = []\n",
    "for col in df_train.columns:\n",
    "    if df_train[col].std() == 0:\n",
    "        remove.append(col)\n",
    "\n",
    "df_train.drop(remove, axis=1, inplace=True)\n",
    "df_test.drop(remove, axis=1, inplace=True)"
   ]
  },
  {
   "cell_type": "markdown",
   "metadata": {},
   "source": [
    "### Remove duplicated columns"
   ]
  },
  {
   "cell_type": "code",
   "execution_count": 4,
   "metadata": {
    "collapsed": true
   },
   "outputs": [],
   "source": [
    "remove = []\n",
    "c = df_train.columns\n",
    "for i in range(len(c)-1):\n",
    "    v = df_train[c[i]].values\n",
    "    for j in range(i+1,len(c)):\n",
    "        if np.array_equal(v,df_train[c[j]].values):\n",
    "            remove.append(c[j])\n",
    "\n",
    "df_train.drop(remove, axis=1, inplace=True)\n",
    "df_test.drop(remove, axis=1, inplace=True)"
   ]
  },
  {
   "cell_type": "markdown",
   "metadata": {},
   "source": [
    "### Other cleaning"
   ]
  },
  {
   "cell_type": "code",
   "execution_count": 5,
   "metadata": {
    "collapsed": true
   },
   "outputs": [],
   "source": [
    "# Replace -999999 in var3 column with most common value 2 \n",
    "df_train = df_train.replace(-999999,2)\n",
    "df_test = df_test.replace(-999999,2)"
   ]
  },
  {
   "cell_type": "markdown",
   "metadata": {},
   "source": [
    "### Feature selection"
   ]
  },
  {
   "cell_type": "code",
   "execution_count": 6,
   "metadata": {
    "collapsed": false
   },
   "outputs": [
    {
     "name": "stdout",
     "output_type": "stream",
     "text": [
      "Chi2 & F_classif selected 173 features\n"
     ]
    },
    {
     "name": "stderr",
     "output_type": "stream",
     "text": [
      "/home/nguyen/anaconda/lib/python2.7/site-packages/sklearn/preprocessing/data.py:167: UserWarning: Numerical issues were encountered when centering the data and might not be solved. Dataset may contain too large values. You may need to prescale your features.\n",
      "  warnings.warn(\"Numerical issues were encountered \"\n"
     ]
    }
   ],
   "source": [
    "Xdf_tr = df_train.drop('TARGET', 1)\n",
    "tdf_tr = df_train.TARGET\n",
    "\n",
    "from sklearn.preprocessing import Binarizer, scale\n",
    "\n",
    "p = 50 # percentage of selected features\n",
    "\n",
    "X_bin = Binarizer().fit_transform(scale(Xdf_tr))\n",
    "selectChi2 = SelectPercentile(chi2, percentile=p).fit(X_bin, tdf_tr)\n",
    "selectF_classif = SelectPercentile(f_classif, percentile=p).fit(Xdf_tr, tdf_tr)\n",
    "\n",
    "chi2_selected = selectChi2.get_support()\n",
    "chi2_selected_features = [ f for i,f in enumerate(Xdf_tr.columns) if chi2_selected[i]]\n",
    "\n",
    "f_classif_selected = selectF_classif.get_support()\n",
    "f_classif_selected_features = [ f for i,f in enumerate(Xdf_tr.columns) if f_classif_selected[i]]\n",
    "\n",
    "\n",
    "selected = chi2_selected | f_classif_selected\n",
    "print('Chi2 & F_classif selected {} features'.format(selected.sum()))\n",
    "features = [ f for f,s in zip(Xdf_tr.columns, selected) if s]\n",
    "Xdf=df_train[features]\n",
    "\n",
    "# print('List of features:{}'.format(features))\n"
   ]
  },
  {
   "cell_type": "markdown",
   "metadata": {},
   "source": [
    "### Extract training data"
   ]
  },
  {
   "cell_type": "code",
   "execution_count": 7,
   "metadata": {
    "collapsed": false
   },
   "outputs": [],
   "source": [
    "#from sklearn import preprocessing\n",
    "#X_tr = preprocessing.scale(Xdf.as_matrix())\n",
    "\n",
    "X_tr = Xdf.as_matrix()\n",
    "t_tr = df_train['TARGET'].as_matrix()\n",
    "\n",
    "N_tr=np.shape(X_tr)[0]\n",
    "D=np.shape(X_tr)[1]\n",
    "\n",
    "X_fit, X_eval, t_fit, t_eval = train_test_split(X_tr, t_tr, test_size=0.25, random_state=42)"
   ]
  },
  {
   "cell_type": "code",
   "execution_count": 9,
   "metadata": {
    "collapsed": false,
    "scrolled": true
   },
   "outputs": [
    {
     "data": {
      "text/plain": [
       "AdaBoostClassifier(algorithm='SAMME.R',\n",
       "          base_estimator=DecisionTreeClassifier(class_weight=None, criterion='gini', max_depth=1,\n",
       "            max_features=None, max_leaf_nodes=None, min_samples_leaf=1,\n",
       "            min_samples_split=2, min_weight_fraction_leaf=0.0,\n",
       "            presort=False, random_state=None, splitter='best'),\n",
       "          learning_rate=1, n_estimators=100, random_state=None)"
      ]
     },
     "execution_count": 9,
     "metadata": {},
     "output_type": "execute_result"
    }
   ],
   "source": [
    "n_estimators = 100\n",
    "learning_rate = 1\n",
    "dt = DecisionTreeClassifier(max_depth=1, min_samples_leaf=1)\n",
    "dt.fit(X_fit, t_fit)\n",
    "dt_score_fit = roc_auc_score(t_fit, dt.predict_proba(X_fit)[:,1])\n",
    "dt_score_eval = roc_auc_score(t_eval, dt.predict_proba(X_eval)[:,1])\n",
    "\n",
    "ada = AdaBoostClassifier(\n",
    "            base_estimator=dt,\n",
    "            learning_rate=learning_rate,\n",
    "            n_estimators=n_estimators,\n",
    "            algorithm=\"SAMME.R\")\n",
    "ada.fit(X_fit, t_fit)"
   ]
  },
  {
   "cell_type": "code",
   "execution_count": 72,
   "metadata": {
    "collapsed": false
   },
   "outputs": [
    {
     "data": {
      "image/png": "[encoded data removed]",
      "text/plain": [
       "<matplotlib.figure.Figure at 0x7f5ca00570d0>"
      ]
     },
     "metadata": {},
     "output_type": "display_data"
    }
   ],
   "source": [
    "fig = plt.figure()\n",
    "ax = fig.add_subplot(111)\n",
    "\n",
    "ax.plot([1, n_estimators], [dt_score,dt_score])\n",
    "\n",
    "ada_score_eval = np.zeros((n_estimators,))\n",
    "for i, t_eval_hat in enumerate(ada.staged_predict_proba(X_eval)):\n",
    "    ada_score_eval[i] = roc_auc_score(t_eval, t_eval_hat[:,1])\n",
    "\n",
    "ada_score_fit = np.zeros((n_estimators,))\n",
    "for i, t_fit_hat in enumerate(ada.staged_predict_proba(X_fit)):\n",
    "    ada_score_fit[i] = roc_auc_score(t_fit, t_fit_hat[:,1])\n",
    "\n",
    "ax.plot(np.arange(n_estimators) + 1, ada_score_eval, label='AdaBoost (testing set)')\n",
    "ax.plot(np.arange(n_estimators) + 1, ada_score_fit, label='AdaBoost (train set)')\n",
    "\n",
    "ax.set_ylim((0.5, 1))\n",
    "ax.set_xlabel('n_estimators')\n",
    "ax.set_ylabel('error rate')\n",
    "\n",
    "leg = ax.legend(loc='upper right', fancybox=True)\n",
    "leg.get_frame().set_alpha(0.7)\n",
    "\n",
    "plt.show()\n"
   ]
  },
  {
   "cell_type": "code",
   "execution_count": 73,
   "metadata": {
    "collapsed": false
   },
   "outputs": [
    {
     "name": "stdout",
     "output_type": "stream",
     "text": [
      "{'Adaboost': array([ 0.82045366,  0.83416183,  0.83536657,  0.82177998,  0.82130414,\n",
      "        0.82643113]), 'Decision tree': array([ 0.68322822,  0.68835284,  0.68050652,  0.67298635,  0.67207695,\n",
      "        0.68406481])}\n"
     ]
    }
   ],
   "source": [
    "cv_scores={}\n",
    "cv_scores['Decision tree']=score_model(dt, X_tr,t_tr)\n",
    "cv_scores['Adaboost']=score_model(ada, X_tr,t_tr)\n",
    "print cv_scores"
   ]
  },
  {
   "cell_type": "code",
   "execution_count": 10,
   "metadata": {
    "collapsed": false
   },
   "outputs": [
    {
     "data": {
      "text/plain": [
       "GridSearchCV(cv=sklearn.cross_validation.StratifiedKFold(labels=[0 0 ..., 0 0], n_folds=6, shuffle=True, random_state=None),\n",
       "       error_score='raise',\n",
       "       estimator=AdaBoostClassifier(algorithm='SAMME.R',\n",
       "          base_estimator=DecisionTreeClassifier(class_weight=None, criterion='gini', max_depth=1,\n",
       "            max_features=None, max_leaf_nodes=None, min_samples_leaf=1,\n",
       "            min_samples_split=2, min_weight_fraction_leaf=0.0,\n",
       "            presort=False, random_state=None, splitter='best'),\n",
       "          learning_rate=1.0, n_estimators=50, random_state=None),\n",
       "       fit_params={}, iid=True, n_jobs=4,\n",
       "       param_grid={'n_estimators': [40, 50, 60], 'learning_rate': [0.4, 0.5, 0.6, 0.7]},\n",
       "       pre_dispatch='2*n_jobs', refit=True, scoring='roc_auc', verbose=0)"
      ]
     },
     "execution_count": 10,
     "metadata": {},
     "output_type": "execute_result"
    }
   ],
   "source": [
    "ada = AdaBoostClassifier(\n",
    "            base_estimator=dt,\n",
    "            learning_rate=learning_rate,\n",
    "            n_estimators=n_estimators,\n",
    "            algorithm=\"SAMME.R\")\n",
    "ada.fit(X_fit, t_fit)\n",
    "clf = AdaBoostClassifier(\n",
    "      base_estimator=dt,\n",
    "      algorithm=\"SAMME.R\")\n",
    "#parameters = {\n",
    "#    'learning_rate': [0.5,1,1.5,2],\n",
    "#    'n_estimators': [10, 30, 50,70,100,200]\n",
    "#}\n",
    "\n",
    "parameters = {\n",
    "    'learning_rate': [0.4,0.5,0.6,0.7],\n",
    "    'n_estimators': [40, 50, 60]\n",
    "}\n",
    "\n",
    "clf = grid_search.GridSearchCV(clf, parameters, n_jobs=4, cv=skf_cv, scoring='roc_auc')\n",
    "clf.fit(X_tr, t_tr)"
   ]
  },
  {
   "cell_type": "code",
   "execution_count": 11,
   "metadata": {
    "collapsed": false
   },
   "outputs": [
    {
     "name": "stdout",
     "output_type": "stream",
     "text": [
      "{'n_estimators': 60, 'learning_rate': 0.4}\n",
      "0.833066620088\n",
      "AdaBoostClassifier(algorithm='SAMME.R',\n",
      "          base_estimator=DecisionTreeClassifier(class_weight=None, criterion='gini', max_depth=1,\n",
      "            max_features=None, max_leaf_nodes=None, min_samples_leaf=1,\n",
      "            min_samples_split=2, min_weight_fraction_leaf=0.0,\n",
      "            presort=False, random_state=None, splitter='best'),\n",
      "          learning_rate=0.4, n_estimators=60, random_state=None)\n"
     ]
    }
   ],
   "source": [
    "print clf.best_params_\n",
    "print clf.best_score_\n",
    "print clf.best_estimator_"
   ]
  },
  {
   "cell_type": "code",
   "execution_count": null,
   "metadata": {
    "collapsed": true
   },
   "outputs": [],
   "source": []
  }
 ],
 "metadata": {
  "kernelspec": {
   "display_name": "Python 2",
   "language": "python",
   "name": "python2"
  },
  "language_info": {
   "codemirror_mode": {
    "name": "ipython",
    "version": 2
   },
   "file_extension": ".py",
   "mimetype": "text/x-python",
   "name": "python",
   "nbconvert_exporter": "python",
   "pygments_lexer": "ipython2",
   "version": "2.7.11"
  }
 },
 "nbformat": 4,
 "nbformat_minor": 0
}
